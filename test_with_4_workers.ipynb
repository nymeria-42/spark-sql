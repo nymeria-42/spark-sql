{
 "cells": [
  {
   "cell_type": "code",
   "execution_count": 1,
   "id": "2b7f5757",
   "metadata": {},
   "outputs": [
    {
     "name": "stderr",
     "output_type": "stream",
     "text": [
      "22/12/03 18:29:49 WARN NativeCodeLoader: Unable to load native-hadoop library for your platform... using builtin-java classes where applicable\n",
      "Using Spark's default log4j profile: org/apache/spark/log4j-defaults.properties\n",
      "Setting default log level to \"WARN\".\n",
      "To adjust logging level use sc.setLogLevel(newLevel). For SparkR, use setLogLevel(newLevel).\n"
     ]
    }
   ],
   "source": [
    "from pyspark.sql import SparkSession  \n",
    "from pyspark.sql.functions import *\n",
    "import time\n",
    "\n",
    "\n",
    "\n",
    "spark = (SparkSession\n",
    "  .builder\n",
    "  .appName(\"AppName\")\n",
    "    .master(\"spark://spark-master:7077\")\n",
    "  .getOrCreate())\n",
    "\n",
    "spark.conf.set(\"spark.sql.legacy.timeParserPolicy\", \"LEGACY\")\n",
    "csv_file = \"compras.csv\""
   ]
  },
  {
   "cell_type": "code",
   "execution_count": 2,
   "id": "a3581d37",
   "metadata": {},
   "outputs": [
    {
     "name": "stderr",
     "output_type": "stream",
     "text": [
      "                                                                                \r"
     ]
    },
    {
     "name": "stdout",
     "output_type": "stream",
     "text": [
      "Execution time: 5.324658393859863\n",
      "Execution time: 0.14860153198242188\n"
     ]
    }
   ],
   "source": [
    "start_time=time.time()\n",
    "df = (spark.read.format(\"csv\")\n",
    "    .option(\"inferSchema\", \"true\")\n",
    "    .option(\"header\", \"true\")\n",
    "    .option(\"sep\", \";\")\n",
    "    .load(csv_file)).withColumn(\"data\",to_timestamp(regexp_replace('data,,', ',', ''), \"MM/dd/yyyy\"))\n",
    "print(f\"Execution time: {time.time() - start_time}\")\n",
    "\n",
    "start_time=time.time()\n",
    "df.createOrReplaceTempView(\"compras\")\n",
    "print(f\"Execution time: {time.time() - start_time}\")"
   ]
  },
  {
   "cell_type": "code",
   "execution_count": 3,
   "id": "eb1a77f6",
   "metadata": {},
   "outputs": [],
   "source": [
    "def measure_time(query):\n",
    "    start_time = time.time()\n",
    "    results = spark.sql(query)\n",
    "    print(f\"Execution time: {time.time() - start_time}\")\n",
    "#     return results.show(results.count(), truncate=False)"
   ]
  },
  {
   "cell_type": "code",
   "execution_count": 4,
   "id": "00c303b1",
   "metadata": {},
   "outputs": [
    {
     "name": "stdout",
     "output_type": "stream",
     "text": [
      "Execution time: 0.05731630325317383\n"
     ]
    }
   ],
   "source": [
    "query=\"\"\"SELECT nome as nome_cliente, SUM(quantidade) as total_itens FROM compras GROUP BY nome\"\"\"\n",
    "measure_time(query)"
   ]
  },
  {
   "cell_type": "code",
   "execution_count": 5,
   "id": "c16f15b6",
   "metadata": {},
   "outputs": [
    {
     "name": "stdout",
     "output_type": "stream",
     "text": [
      "Execution time: 0.013538599014282227\n"
     ]
    }
   ],
   "source": [
    "query=\"\"\"SELECT nome as nome_cliente, SUM(quantidade) as total_itens FROM compras GROUP BY nome\"\"\"\n",
    "measure_time(query)"
   ]
  },
  {
   "cell_type": "code",
   "execution_count": 6,
   "id": "1e5505c0",
   "metadata": {},
   "outputs": [
    {
     "name": "stdout",
     "output_type": "stream",
     "text": [
      "Execution time: 0.06119728088378906\n"
     ]
    }
   ],
   "source": [
    "query = \"\"\"SELECT vendedor_nome, SUM(valor) as total_vendido FROM compras WHERE YEAR(data)=2022 GROUP BY vendedor_nome ORDER BY 2 DESC\"\"\"\n",
    "measure_time(query)"
   ]
  },
  {
   "cell_type": "code",
   "execution_count": 7,
   "id": "840757a5",
   "metadata": {},
   "outputs": [
    {
     "name": "stdout",
     "output_type": "stream",
     "text": [
      "Execution time: 0.06759119033813477\n"
     ]
    }
   ],
   "source": [
    "query = \"\"\"SELECT produto FROM (SELECT produto, SUM(quantidade) FROM compras WHERE YEAR(data) > (2022-5) GROUP BY produto ORDER BY 2 DESC LIMIT 1)\"\"\"\n",
    "measure_time(query)"
   ]
  },
  {
   "cell_type": "code",
   "execution_count": 8,
   "id": "0a397858",
   "metadata": {},
   "outputs": [
    {
     "name": "stdout",
     "output_type": "stream",
     "text": [
      "Execution time: 0.029675960540771484\n"
     ]
    }
   ],
   "source": [
    "query = \"\"\"SELECT produto FROM (SELECT produto, SUM(quantidade) FROM compras WHERE YEAR(data) > (2022-5) GROUP BY produto ORDER BY 2 ASC LIMIT 1)\"\"\"\n",
    "measure_time(query)"
   ]
  },
  {
   "cell_type": "code",
   "execution_count": null,
   "id": "3d80eb2b",
   "metadata": {},
   "outputs": [],
   "source": []
  }
 ],
 "metadata": {
  "kernelspec": {
   "display_name": "Python 3 (ipykernel)",
   "language": "python",
   "name": "python3"
  },
  "language_info": {
   "codemirror_mode": {
    "name": "ipython",
    "version": 3
   },
   "file_extension": ".py",
   "mimetype": "text/x-python",
   "name": "python",
   "nbconvert_exporter": "python",
   "pygments_lexer": "ipython3",
   "version": "3.9.2"
  }
 },
 "nbformat": 4,
 "nbformat_minor": 5
}
