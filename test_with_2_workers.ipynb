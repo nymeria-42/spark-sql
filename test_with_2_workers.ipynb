{
 "cells": [
  {
   "cell_type": "code",
   "execution_count": 1,
   "id": "67f81b26",
   "metadata": {},
   "outputs": [
    {
     "name": "stderr",
     "output_type": "stream",
     "text": [
      "22/12/03 18:27:21 WARN NativeCodeLoader: Unable to load native-hadoop library for your platform... using builtin-java classes where applicable\n",
      "Using Spark's default log4j profile: org/apache/spark/log4j-defaults.properties\n",
      "Setting default log level to \"WARN\".\n",
      "To adjust logging level use sc.setLogLevel(newLevel). For SparkR, use setLogLevel(newLevel).\n"
     ]
    }
   ],
   "source": [
    "from pyspark.sql import SparkSession  \n",
    "from pyspark.sql.functions import *\n",
    "import time\n",
    "\n",
    "\n",
    "\n",
    "spark = (SparkSession\n",
    "  .builder\n",
    "  .appName(\"AppName\")\n",
    "    .master(\"spark://spark-master:7077\")\n",
    "  .getOrCreate())\n",
    "\n",
    "spark.conf.set(\"spark.sql.legacy.timeParserPolicy\", \"LEGACY\")\n",
    "csv_file = \"compras.csv\""
   ]
  },
  {
   "cell_type": "code",
   "execution_count": 2,
   "id": "80b2226e",
   "metadata": {},
   "outputs": [
    {
     "name": "stderr",
     "output_type": "stream",
     "text": [
      "                                                                                \r"
     ]
    },
    {
     "name": "stdout",
     "output_type": "stream",
     "text": [
      "Execution time: 5.264136791229248\n",
      "Execution time: 0.21662640571594238\n"
     ]
    }
   ],
   "source": [
    "start_time=time.time()\n",
    "df = (spark.read.format(\"csv\")\n",
    "    .option(\"inferSchema\", \"true\")\n",
    "    .option(\"header\", \"true\")\n",
    "    .option(\"sep\", \";\")\n",
    "    .load(csv_file)).withColumn(\"data\",to_timestamp(regexp_replace('data,,', ',', ''), \"MM/dd/yyyy\"))\n",
    "print(f\"Execution time: {time.time() - start_time}\")\n",
    "\n",
    "start_time=time.time()\n",
    "df.createOrReplaceTempView(\"compras\")\n",
    "print(f\"Execution time: {time.time() - start_time}\")"
   ]
  },
  {
   "cell_type": "code",
   "execution_count": 3,
   "id": "2864af11",
   "metadata": {},
   "outputs": [],
   "source": [
    "def measure_time(query):\n",
    "    start_time = time.time()\n",
    "    results = spark.sql(query)\n",
    "    print(f\"Execution time: {time.time() - start_time}\")\n",
    "#     return results.show(results.count(), truncate=False)"
   ]
  },
  {
   "cell_type": "code",
   "execution_count": 9,
   "id": "0014bf4d",
   "metadata": {},
   "outputs": [
    {
     "name": "stdout",
     "output_type": "stream",
     "text": [
      "Execution time: 0.007673025131225586\n"
     ]
    }
   ],
   "source": [
    "query=\"\"\"SELECT nome as nome_cliente, SUM(quantidade) as total_itens FROM compras GROUP BY nome\"\"\"\n",
    "measure_time(query)"
   ]
  },
  {
   "cell_type": "code",
   "execution_count": 10,
   "id": "f20557ae",
   "metadata": {},
   "outputs": [
    {
     "name": "stdout",
     "output_type": "stream",
     "text": [
      "Execution time: 0.01258087158203125\n"
     ]
    }
   ],
   "source": [
    "query=\"\"\"SELECT nome as nome_cliente, SUM(quantidade) as total_itens FROM compras GROUP BY nome\"\"\"\n",
    "measure_time(query)"
   ]
  },
  {
   "cell_type": "code",
   "execution_count": 11,
   "id": "42efaf61",
   "metadata": {},
   "outputs": [
    {
     "name": "stdout",
     "output_type": "stream",
     "text": [
      "Execution time: 0.04532957077026367\n"
     ]
    }
   ],
   "source": [
    "query = \"\"\"SELECT vendedor_nome, SUM(valor) as total_vendido FROM compras WHERE YEAR(data)=2022 GROUP BY vendedor_nome ORDER BY 2 DESC\"\"\"\n",
    "measure_time(query)"
   ]
  },
  {
   "cell_type": "code",
   "execution_count": 12,
   "id": "366781ac",
   "metadata": {},
   "outputs": [
    {
     "name": "stdout",
     "output_type": "stream",
     "text": [
      "Execution time: 0.025560379028320312\n"
     ]
    }
   ],
   "source": [
    "query = \"\"\"SELECT produto FROM (SELECT produto, SUM(quantidade) FROM compras WHERE YEAR(data) > (2022-5) GROUP BY produto ORDER BY 2 DESC LIMIT 1)\"\"\"\n",
    "measure_time(query)"
   ]
  },
  {
   "cell_type": "code",
   "execution_count": 13,
   "id": "b822250c",
   "metadata": {},
   "outputs": [
    {
     "name": "stdout",
     "output_type": "stream",
     "text": [
      "Execution time: 0.03058910369873047\n"
     ]
    }
   ],
   "source": [
    "query = \"\"\"SELECT produto FROM (SELECT produto, SUM(quantidade) FROM compras WHERE YEAR(data) > (2022-5) GROUP BY produto ORDER BY 2 ASC LIMIT 1)\"\"\"\n",
    "measure_time(query)"
   ]
  },
  {
   "cell_type": "code",
   "execution_count": null,
   "id": "15ff26c2",
   "metadata": {},
   "outputs": [],
   "source": []
  }
 ],
 "metadata": {
  "kernelspec": {
   "display_name": "Python 3 (ipykernel)",
   "language": "python",
   "name": "python3"
  },
  "language_info": {
   "codemirror_mode": {
    "name": "ipython",
    "version": 3
   },
   "file_extension": ".py",
   "mimetype": "text/x-python",
   "name": "python",
   "nbconvert_exporter": "python",
   "pygments_lexer": "ipython3",
   "version": "3.9.2"
  }
 },
 "nbformat": 4,
 "nbformat_minor": 5
}
